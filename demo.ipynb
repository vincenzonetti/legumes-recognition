{
 "cells": [
  {
   "cell_type": "markdown",
   "metadata": {},
   "source": [
    "# Legumes Recognition Demo\n",
    "\n",
    "This notebook demonstrates the complete workflow for:\n",
    "1. Feature extraction from seed images\n",
    "2. Training an SVM classifier\n",
    "3. Detecting and classifying seeds in test images"
   ]
  },
  {
   "cell_type": "code",
   "execution_count": 1,
   "metadata": {},
   "outputs": [],
   "source": [
    "import numpy as np\n",
    "import cv2 as cv\n",
    "import pandas as pd\n",
    "import matplotlib.pyplot as plt\n",
    "from sklearn.model_selection import train_test_split\n",
    "import random\n",
    "import os\n",
    "import joblib\n",
    "from feature_extraction import extract_feature, compute_crop_and_keypoints\n",
    "from tqdm.auto import tqdm\n",
    "%matplotlib inline"
   ]
  },
  {
   "cell_type": "markdown",
   "metadata": {},
   "source": [
    "## 1. Feature Extraction\n",
    "\n",
    "Extract features from all images in the dataset"
   ]
  },
  {
   "cell_type": "code",
   "execution_count": 2,
   "metadata": {},
   "outputs": [
    {
     "data": {
      "application/vnd.jupyter.widget-view+json": {
       "model_id": "0b33dfe26ba946f2ba1e863f89fbf6e8",
       "version_major": 2,
       "version_minor": 0
      },
      "text/plain": [
       "Processing Folders:   0%|          | 0/5 [00:00<?, ?it/s]"
      ]
     },
     "metadata": {},
     "output_type": "display_data"
    },
    {
     "data": {
      "application/vnd.jupyter.widget-view+json": {
       "model_id": "65560a5ac6214b178b1ff315c96ee2ac",
       "version_major": 2,
       "version_minor": 0
      },
      "text/plain": [
       "Processing Avena:   0%|          | 0/20 [00:00<?, ?it/s]"
      ]
     },
     "metadata": {},
     "output_type": "display_data"
    },
    {
     "name": "stderr",
     "output_type": "stream",
     "text": [
      "/tmp/ipykernel_61015/1692588690.py:25: FutureWarning: The behavior of DataFrame concatenation with empty or all-NA entries is deprecated. In a future version, this will no longer exclude empty or all-NA columns when determining the result dtypes. To retain the old behavior, exclude the relevant entries before the concat operation.\n",
      "  df = pd.concat([df, pd.DataFrame([new_row])], ignore_index=True)\n"
     ]
    },
    {
     "data": {
      "application/vnd.jupyter.widget-view+json": {
       "model_id": "31189e496e22439f92c821a38d19d325",
       "version_major": 2,
       "version_minor": 0
      },
      "text/plain": [
       "Processing Orzo:   0%|          | 0/20 [00:00<?, ?it/s]"
      ]
     },
     "metadata": {},
     "output_type": "display_data"
    },
    {
     "data": {
      "application/vnd.jupyter.widget-view+json": {
       "model_id": "2416f3ecd5194cba8114e0482ebf87f9",
       "version_major": 2,
       "version_minor": 0
      },
      "text/plain": [
       "Processing Lenticchia:   0%|          | 0/20 [00:00<?, ?it/s]"
      ]
     },
     "metadata": {},
     "output_type": "display_data"
    },
    {
     "data": {
      "application/vnd.jupyter.widget-view+json": {
       "model_id": "c900ce2c8fe84ff083c851dc7830fbf5",
       "version_major": 2,
       "version_minor": 0
      },
      "text/plain": [
       "Processing fagiolo:   0%|          | 0/20 [00:00<?, ?it/s]"
      ]
     },
     "metadata": {},
     "output_type": "display_data"
    },
    {
     "data": {
      "application/vnd.jupyter.widget-view+json": {
       "model_id": "6405ff0b9fff4b7a88657c40da1921b5",
       "version_major": 2,
       "version_minor": 0
      },
      "text/plain": [
       "Processing Ceci :   0%|          | 0/20 [00:00<?, ?it/s]"
      ]
     },
     "metadata": {},
     "output_type": "display_data"
    },
    {
     "name": "stdout",
     "output_type": "stream",
     "text": [
      "Features extracted and saved to features.csv\n"
     ]
    },
    {
     "data": {
      "text/html": [
       "<div>\n",
       "<style scoped>\n",
       "    .dataframe tbody tr th:only-of-type {\n",
       "        vertical-align: middle;\n",
       "    }\n",
       "\n",
       "    .dataframe tbody tr th {\n",
       "        vertical-align: top;\n",
       "    }\n",
       "\n",
       "    .dataframe thead th {\n",
       "        text-align: right;\n",
       "    }\n",
       "</style>\n",
       "<table border=\"1\" class=\"dataframe\">\n",
       "  <thead>\n",
       "    <tr style=\"text-align: right;\">\n",
       "      <th></th>\n",
       "      <th>label</th>\n",
       "      <th>area</th>\n",
       "      <th>perimeter</th>\n",
       "      <th>aspect_ratio</th>\n",
       "      <th>circularity</th>\n",
       "      <th>mean_color_b</th>\n",
       "      <th>mean_color_g</th>\n",
       "      <th>mean_color_r</th>\n",
       "      <th>num_keypoints</th>\n",
       "      <th>avg_keypoint_size</th>\n",
       "      <th>descriptor_mean</th>\n",
       "      <th>descriptor_std</th>\n",
       "    </tr>\n",
       "  </thead>\n",
       "  <tbody>\n",
       "    <tr>\n",
       "      <th>0</th>\n",
       "      <td>Avena</td>\n",
       "      <td>539.5</td>\n",
       "      <td>96.18</td>\n",
       "      <td>1.20</td>\n",
       "      <td>0.73</td>\n",
       "      <td>103.79</td>\n",
       "      <td>131.53</td>\n",
       "      <td>148.57</td>\n",
       "      <td>5.0</td>\n",
       "      <td>3.35</td>\n",
       "      <td>26.799999</td>\n",
       "      <td>36.459999</td>\n",
       "    </tr>\n",
       "    <tr>\n",
       "      <th>1</th>\n",
       "      <td>Avena</td>\n",
       "      <td>113.0</td>\n",
       "      <td>432.42</td>\n",
       "      <td>1.23</td>\n",
       "      <td>0.01</td>\n",
       "      <td>117.04</td>\n",
       "      <td>137.54</td>\n",
       "      <td>152.95</td>\n",
       "      <td>11.0</td>\n",
       "      <td>4.78</td>\n",
       "      <td>25.940001</td>\n",
       "      <td>37.049999</td>\n",
       "    </tr>\n",
       "    <tr>\n",
       "      <th>2</th>\n",
       "      <td>Avena</td>\n",
       "      <td>169.5</td>\n",
       "      <td>61.70</td>\n",
       "      <td>1.77</td>\n",
       "      <td>0.56</td>\n",
       "      <td>122.00</td>\n",
       "      <td>142.64</td>\n",
       "      <td>156.18</td>\n",
       "      <td>3.0</td>\n",
       "      <td>3.73</td>\n",
       "      <td>22.980000</td>\n",
       "      <td>38.950001</td>\n",
       "    </tr>\n",
       "    <tr>\n",
       "      <th>3</th>\n",
       "      <td>Avena</td>\n",
       "      <td>662.0</td>\n",
       "      <td>98.08</td>\n",
       "      <td>0.91</td>\n",
       "      <td>0.86</td>\n",
       "      <td>114.36</td>\n",
       "      <td>138.76</td>\n",
       "      <td>155.71</td>\n",
       "      <td>2.0</td>\n",
       "      <td>3.65</td>\n",
       "      <td>26.120001</td>\n",
       "      <td>37.009998</td>\n",
       "    </tr>\n",
       "    <tr>\n",
       "      <th>4</th>\n",
       "      <td>Avena</td>\n",
       "      <td>20.0</td>\n",
       "      <td>231.97</td>\n",
       "      <td>1.50</td>\n",
       "      <td>0.00</td>\n",
       "      <td>129.06</td>\n",
       "      <td>144.15</td>\n",
       "      <td>156.28</td>\n",
       "      <td>2.0</td>\n",
       "      <td>5.46</td>\n",
       "      <td>23.510000</td>\n",
       "      <td>38.650002</td>\n",
       "    </tr>\n",
       "  </tbody>\n",
       "</table>\n",
       "</div>"
      ],
      "text/plain": [
       "   label   area  perimeter  aspect_ratio  circularity  mean_color_b  \\\n",
       "0  Avena  539.5      96.18          1.20         0.73        103.79   \n",
       "1  Avena  113.0     432.42          1.23         0.01        117.04   \n",
       "2  Avena  169.5      61.70          1.77         0.56        122.00   \n",
       "3  Avena  662.0      98.08          0.91         0.86        114.36   \n",
       "4  Avena   20.0     231.97          1.50         0.00        129.06   \n",
       "\n",
       "   mean_color_g  mean_color_r  num_keypoints  avg_keypoint_size  \\\n",
       "0        131.53        148.57            5.0               3.35   \n",
       "1        137.54        152.95           11.0               4.78   \n",
       "2        142.64        156.18            3.0               3.73   \n",
       "3        138.76        155.71            2.0               3.65   \n",
       "4        144.15        156.28            2.0               5.46   \n",
       "\n",
       "   descriptor_mean  descriptor_std  \n",
       "0        26.799999       36.459999  \n",
       "1        25.940001       37.049999  \n",
       "2        22.980000       38.950001  \n",
       "3        26.120001       37.009998  \n",
       "4        23.510000       38.650002  "
      ]
     },
     "execution_count": 2,
     "metadata": {},
     "output_type": "execute_result"
    }
   ],
   "source": [
    "# Initialize DataFrame\n",
    "df = pd.DataFrame(columns=['label','area', 'perimeter', 'aspect_ratio', 'circularity', \n",
    "                          'mean_color_b', 'mean_color_g', 'mean_color_r'])\n",
    "\n",
    "PATH = 'SIV_dataset/'\n",
    "subdirectories = [d for d in os.listdir(PATH) if os.path.isdir(os.path.join(PATH, d)) and d != 'Test']\n",
    "\n",
    "for subdir in tqdm(subdirectories, desc='Processing Folders'):\n",
    "    images = [img for img in os.listdir(os.path.join(PATH, subdir)) if img.endswith('.jpg')]\n",
    "    \n",
    "    for filename in tqdm(images, desc=f'Processing {subdir}', leave=False):\n",
    "        file_path = os.path.join(PATH, subdir, filename)\n",
    "        img = cv.imread(file_path)\n",
    "        img = cv.resize(img, (500, 500))\n",
    "        \n",
    "        crop, keypoint_features = compute_crop_and_keypoints(img)\n",
    "        contour_features = extract_feature(crop)\n",
    "        \n",
    "        # Combine features\n",
    "        features = {**keypoint_features, **contour_features}\n",
    "        features = {k: round(v, 2) for k, v in features.items()}\n",
    "        \n",
    "        # Add to DataFrame\n",
    "        new_row = {'label': subdir, **features}\n",
    "        df = pd.concat([df, pd.DataFrame([new_row])], ignore_index=True)\n",
    "\n",
    "df.to_csv('features.csv', index=False)\n",
    "print(\"Features extracted and saved to features.csv\")\n",
    "df.head()"
   ]
  },
  {
   "cell_type": "markdown",
   "metadata": {},
   "source": [
    "## 2. Train SVM Model"
   ]
  },
  {
   "cell_type": "code",
   "execution_count": null,
   "metadata": {},
   "outputs": [
    {
     "name": "stdout",
     "output_type": "stream",
     "text": [
      "Model accuracy: 0.80\n"
     ]
    },
    {
     "data": {
      "image/png": "[encoded data removed]",
      "text/plain": [
       "<Figure size 800x600 with 2 Axes>"
      ]
     },
     "metadata": {},
     "output_type": "display_data"
    }
   ],
   "source": [
    "import pandas as pd\n",
    "from sklearn.svm import SVC\n",
    "from sklearn.preprocessing import StandardScaler\n",
    "from sklearn.pipeline import make_pipeline\n",
    "from sklearn.metrics import confusion_matrix\n",
    "from sklearn.model_selection import train_test_split\n",
    "import random\n",
    "import joblib\n",
    "# Load features\n",
    "df = pd.read_csv('features.csv')\n",
    "feature_vectors = df.drop('label', axis=1).values\n",
    "labels = df['label'].values\n",
    "\n",
    "# Split data\n",
    "X_train, X_test, y_train, y_test = train_test_split(\n",
    "    feature_vectors, labels, test_size=0.2, random_state=random.randint(0, 1000)\n",
    ")\n",
    "\n",
    "# Train SVM\n",
    "svm = make_pipeline(StandardScaler(), SVC(kernel='linear', C=2.5))\n",
    "svm.fit(X_train, y_train)\n",
    "\n",
    "# Save model\n",
    "joblib.dump(svm, 'svm_model.pkl')\n",
    "\n",
    "# Evaluate\n",
    "accuracy = svm.score(X_test, y_test)\n",
    "print(f'Model accuracy: {accuracy:.2f}')\n",
    "\n",
    "# Plot confusion matrix\n",
    "y_pred = svm.predict(X_test)\n",
    "cm = confusion_matrix(y_test, y_pred)\n",
    "plt.figure(figsize=(8, 6))\n",
    "plt.matshow(cm, fignum=1, cmap='Blues')\n",
    "plt.colorbar()\n",
    "plt.title('Confusion Matrix')\n",
    "plt.xlabel('Predicted')\n",
    "plt.ylabel('True')\n",
    "plt.show()"
   ]
  },
  {
   "cell_type": "markdown",
   "metadata": {},
   "source": [
    "## 3. Test on New Images"
   ]
  },
  {
   "cell_type": "code",
   "execution_count": null,
   "metadata": {},
   "outputs": [
    {
     "ename": "NameError",
     "evalue": "name 'df' is not defined",
     "output_type": "error",
     "traceback": [
      "\u001b[0;31m---------------------------------------------------------------------------\u001b[0m",
      "\u001b[0;31mNameError\u001b[0m                                 Traceback (most recent call last)",
      "Cell \u001b[0;32mIn[7], line 15\u001b[0m\n\u001b[1;32m     12\u001b[0m img \u001b[38;5;241m=\u001b[39m img[\u001b[38;5;241m20\u001b[39m:\u001b[38;5;241m-\u001b[39m\u001b[38;5;241m20\u001b[39m, \u001b[38;5;241m20\u001b[39m:\u001b[38;5;241m-\u001b[39m\u001b[38;5;241m20\u001b[39m]  \u001b[38;5;66;03m# Crop borders\u001b[39;00m\n\u001b[1;32m     14\u001b[0m \u001b[38;5;66;03m# Detect and classify seeds\u001b[39;00m\n\u001b[0;32m---> 15\u001b[0m result_img, counts \u001b[38;5;241m=\u001b[39m \u001b[43mcompute_informations\u001b[49m\u001b[43m(\u001b[49m\u001b[43mimg\u001b[49m\u001b[38;5;241;43m.\u001b[39;49m\u001b[43mcopy\u001b[49m\u001b[43m(\u001b[49m\u001b[43m)\u001b[49m\u001b[43m,\u001b[49m\u001b[43mmin_area\u001b[49m\u001b[38;5;241;43m=\u001b[39;49m\u001b[43mmin_area\u001b[49m\u001b[43m,\u001b[49m\u001b[43mmax_area\u001b[49m\u001b[38;5;241;43m=\u001b[39;49m\u001b[43mmax_area\u001b[49m\u001b[43m,\u001b[49m\u001b[43msvm\u001b[49m\u001b[38;5;241;43m=\u001b[39;49m\u001b[43msvm\u001b[49m\u001b[43m)\u001b[49m\n\u001b[1;32m     17\u001b[0m \u001b[38;5;66;03m# Display results\u001b[39;00m\n\u001b[1;32m     18\u001b[0m fig, (ax1, ax2) \u001b[38;5;241m=\u001b[39m plt\u001b[38;5;241m.\u001b[39msubplots(\u001b[38;5;241m1\u001b[39m, \u001b[38;5;241m2\u001b[39m, figsize\u001b[38;5;241m=\u001b[39m(\u001b[38;5;241m15\u001b[39m, \u001b[38;5;241m5\u001b[39m))\n",
      "File \u001b[0;32m~/Desktop/Uni/SIV/project/main.py:133\u001b[0m, in \u001b[0;36mcompute_informations\u001b[0;34m(img, min_area, max_area, svm)\u001b[0m\n\u001b[1;32m    131\u001b[0m contour_feature \u001b[38;5;241m=\u001b[39m extract_contour_features(img, cnt)\n\u001b[1;32m    132\u001b[0m feature_dict \u001b[38;5;241m=\u001b[39m {\u001b[38;5;241m*\u001b[39m\u001b[38;5;241m*\u001b[39mkeypoints_feature, \u001b[38;5;241m*\u001b[39m\u001b[38;5;241m*\u001b[39mcontour_feature}\n\u001b[0;32m--> 133\u001b[0m feature_vector \u001b[38;5;241m=\u001b[39m [feature_dict[feature] \u001b[38;5;28;01mfor\u001b[39;00m feature \u001b[38;5;129;01min\u001b[39;00m \u001b[43mdf\u001b[49m\u001b[38;5;241m.\u001b[39mcolumns[\u001b[38;5;241m1\u001b[39m:]]\n\u001b[1;32m    134\u001b[0m label \u001b[38;5;241m=\u001b[39m svm\u001b[38;5;241m.\u001b[39mpredict([feature_vector])[\u001b[38;5;241m0\u001b[39m]\n\u001b[1;32m    135\u001b[0m \u001b[38;5;28;01mif\u001b[39;00m label \u001b[38;5;129;01mnot\u001b[39;00m \u001b[38;5;129;01min\u001b[39;00m label_counter:\n",
      "\u001b[0;31mNameError\u001b[0m: name 'df' is not defined"
     ]
    }
   ],
   "source": [
    "from main import compute_informations\n",
    "\n",
    "# Load test images\n",
    "TEST_FOLDER = 'SIV_dataset/Test'\n",
    "test_files = os.listdir(TEST_FOLDER)\n",
    "max_area = df['area'].max()\n",
    "min_area = df['area'].min()*3\n",
    "# Process each test image\n",
    "for file in test_files:\n",
    "    img = cv.imread(os.path.join(TEST_FOLDER, file))\n",
    "    img = cv.resize(img, (500, 500))\n",
    "    img = img[20:-20, 20:-20]  # Crop borders\n",
    "    \n",
    "    # Detect and classify seeds\n",
    "    result_img, counts = compute_informations(img.copy(),min_area=min_area,max_area=max_area,svm=svm,df=df)\n",
    "    \n",
    "    # Display results\n",
    "    fig, (ax1, ax2) = plt.subplots(1, 2, figsize=(15, 5))\n",
    "    \n",
    "    ax1.imshow(cv.cvtColor(img, cv.COLOR_BGR2RGB))\n",
    "    ax1.set_title('Original Image')\n",
    "    ax1.axis('off')\n",
    "    \n",
    "    ax2.imshow(cv.cvtColor(result_img, cv.COLOR_BGR2RGB))\n",
    "    ax2.set_title('Detected Seeds')\n",
    "    ax2.axis('off')\n",
    "    \n",
    "    plt.figure(figsize=(8, 4))\n",
    "    plt.bar(counts.keys(), counts.values())\n",
    "    plt.title('Seed Distribution')\n",
    "    plt.show()"
   ]
  }
 ],
 "metadata": {
  "kernelspec": {
   "display_name": "siv",
   "language": "python",
   "name": "python3"
  },
  "language_info": {
   "codemirror_mode": {
    "name": "ipython",
    "version": 3
   },
   "file_extension": ".py",
   "mimetype": "text/x-python",
   "name": "python",
   "nbconvert_exporter": "python",
   "pygments_lexer": "ipython3",
   "version": "3.12.7"
  }
 },
 "nbformat": 4,
 "nbformat_minor": 2
}
